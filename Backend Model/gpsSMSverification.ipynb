{
  "cells": [
    {
      "cell_type": "markdown",
      "metadata": {
        "id": "CcO335kLhhAP"
      },
      "source": [
        "### Installing the Twilio service\n",
        "\n",
        "Using the Twilio service to send SMS(s) to desired mobile numbers. Once the system is deployed for the government use, we will utiize the 2 way SMS gateway by NIC."
      ]
    },
    {
      "cell_type": "code",
      "execution_count": null,
      "metadata": {
        "colab": {
          "base_uri": "https://localhost:8080/"
        },
        "id": "7PVj5UaPYmew",
        "outputId": "e8bc47d5-5686-4b7c-cfd2-1caae74cf440"
      },
      "outputs": [
        {
          "name": "stdout",
          "output_type": "stream",
          "text": [
            "Collecting twilio\n",
            "  Downloading twilio-9.4.1-py2.py3-none-any.whl.metadata (12 kB)\n",
            "Requirement already satisfied: requests>=2.0.0 in /usr/local/lib/python3.10/dist-packages (from twilio) (2.32.3)\n",
            "Requirement already satisfied: PyJWT<3.0.0,>=2.0.0 in /usr/local/lib/python3.10/dist-packages (from twilio) (2.10.1)\n",
            "Requirement already satisfied: aiohttp>=3.8.4 in /usr/local/lib/python3.10/dist-packages (from twilio) (3.11.10)\n",
            "Collecting aiohttp-retry==2.8.3 (from twilio)\n",
            "  Downloading aiohttp_retry-2.8.3-py3-none-any.whl.metadata (8.9 kB)\n",
            "Requirement already satisfied: aiohappyeyeballs>=2.3.0 in /usr/local/lib/python3.10/dist-packages (from aiohttp>=3.8.4->twilio) (2.4.4)\n",
            "Requirement already satisfied: aiosignal>=1.1.2 in /usr/local/lib/python3.10/dist-packages (from aiohttp>=3.8.4->twilio) (1.3.2)\n",
            "Requirement already satisfied: async-timeout<6.0,>=4.0 in /usr/local/lib/python3.10/dist-packages (from aiohttp>=3.8.4->twilio) (4.0.3)\n",
            "Requirement already satisfied: attrs>=17.3.0 in /usr/local/lib/python3.10/dist-packages (from aiohttp>=3.8.4->twilio) (24.3.0)\n",
            "Requirement already satisfied: frozenlist>=1.1.1 in /usr/local/lib/python3.10/dist-packages (from aiohttp>=3.8.4->twilio) (1.5.0)\n",
            "Requirement already satisfied: multidict<7.0,>=4.5 in /usr/local/lib/python3.10/dist-packages (from aiohttp>=3.8.4->twilio) (6.1.0)\n",
            "Requirement already satisfied: propcache>=0.2.0 in /usr/local/lib/python3.10/dist-packages (from aiohttp>=3.8.4->twilio) (0.2.1)\n",
            "Requirement already satisfied: yarl<2.0,>=1.17.0 in /usr/local/lib/python3.10/dist-packages (from aiohttp>=3.8.4->twilio) (1.18.3)\n",
            "Requirement already satisfied: charset-normalizer<4,>=2 in /usr/local/lib/python3.10/dist-packages (from requests>=2.0.0->twilio) (3.4.0)\n",
            "Requirement already satisfied: idna<4,>=2.5 in /usr/local/lib/python3.10/dist-packages (from requests>=2.0.0->twilio) (3.10)\n",
            "Requirement already satisfied: urllib3<3,>=1.21.1 in /usr/local/lib/python3.10/dist-packages (from requests>=2.0.0->twilio) (2.2.3)\n",
            "Requirement already satisfied: certifi>=2017.4.17 in /usr/local/lib/python3.10/dist-packages (from requests>=2.0.0->twilio) (2024.12.14)\n",
            "Requirement already satisfied: typing-extensions>=4.1.0 in /usr/local/lib/python3.10/dist-packages (from multidict<7.0,>=4.5->aiohttp>=3.8.4->twilio) (4.12.2)\n",
            "Downloading twilio-9.4.1-py2.py3-none-any.whl (1.9 MB)\n",
            "\u001b[?25l   \u001b[90m━━━━━━━━━━━━━━━━━━━━━━━━━━━━━━━━━━━━━━━━\u001b[0m \u001b[32m0.0/1.9 MB\u001b[0m \u001b[31m?\u001b[0m eta \u001b[36m-:--:--\u001b[0m\r\u001b[2K   \u001b[91m━━━━━━━━━\u001b[0m\u001b[91m╸\u001b[0m\u001b[90m━━━━━━━━━━━━━━━━━━━━━━━━━━━━━━\u001b[0m \u001b[32m0.5/1.9 MB\u001b[0m \u001b[31m13.6 MB/s\u001b[0m eta \u001b[36m0:00:01\u001b[0m\r\u001b[2K   \u001b[91m━━━━━━━━━━━━━━━━━━━━━━━━━━━━━━━━━━━━━━━\u001b[0m\u001b[91m╸\u001b[0m \u001b[32m1.9/1.9 MB\u001b[0m \u001b[31m34.4 MB/s\u001b[0m eta \u001b[36m0:00:01\u001b[0m\r\u001b[2K   \u001b[90m━━━━━━━━━━━━━━━━━━━━━━━━━━━━━━━━━━━━━━━━\u001b[0m \u001b[32m1.9/1.9 MB\u001b[0m \u001b[31m25.3 MB/s\u001b[0m eta \u001b[36m0:00:00\u001b[0m\n",
            "\u001b[?25hDownloading aiohttp_retry-2.8.3-py3-none-any.whl (9.8 kB)\n",
            "Installing collected packages: aiohttp-retry, twilio\n",
            "Successfully installed aiohttp-retry-2.8.3 twilio-9.4.1\n"
          ]
        }
      ],
      "source": [
        "!pip install twilio"
      ]
    },
    {
      "cell_type": "markdown",
      "metadata": {
        "id": "CH_CTh0oiRRD"
      },
      "source": [
        "### Sending Verification Messages via Twilio\n",
        "Send SMS messages to a list of recipients, requesting them to verify the accuracy of a news headline.\n",
        "\n"
      ]
    },
    {
      "cell_type": "code",
      "execution_count": null,
      "metadata": {
        "colab": {
          "base_uri": "https://localhost:8080/"
        },
        "id": "MJiruZTqcs3G",
        "outputId": "2d982fb2-0734-4e19-be2a-dd821dfff792"
      },
      "outputs": [
        {
          "name": "stdout",
          "output_type": "stream",
          "text": [
            "Verification message successfully sent to +919871618674\n",
            "Verification message successfully sent to +918076835316\n",
            "Verification message successfully sent to +919354282239\n"
          ]
        }
      ],
      "source": [
        "from twilio.rest import Client\n",
        "\n",
        "account_sid = 'sid' #sid and token hidden due to privacy reasons\n",
        "auth_token = 'token'\n",
        "client = Client(account_sid, auth_token)\n",
        "\n",
        "numbers_to_message = ['+9198XXXXXXXX', '+9180XXXXXXXX', '+9193XXXXXXXX']  #sample phone no. in the area of news\n",
        "headline = 'Post Office Recruitment 2020: Big vacancy of over 1371 posts for 10th pass' #headline inputted\n",
        "final_mssg = f\"As the first-hand person to be affected by the headline {headline}, please help us to verify this by resending a YES or a NO.\"  #SMS template\n",
        "for number in numbers_to_message:\n",
        "    message = client.messages.create(\n",
        "        body= final_mssg,\n",
        "        from_='proxy_sender_number', #this nu. is generated while creating the twilio service and has been hidden right now due to privacy reasons\n",
        "        to=number\n",
        "    )\n",
        "    if (message.sid != None):\n",
        "      print(f\"Verification message successfully sent to {number}\")"
      ]
    },
    {
      "cell_type": "markdown",
      "metadata": {
        "id": "1gP7KoVwilGD"
      },
      "source": [
        "### Analyzing Verification Responses\n",
        "Read user responses contained in a CSV file and calculate the probability of \"Yes\" responses."
      ]
    },
    {
      "cell_type": "code",
      "execution_count": null,
      "metadata": {
        "colab": {
          "base_uri": "https://localhost:8080/"
        },
        "id": "KTR-y7_8lPGX",
        "outputId": "db6797e5-2a11-4c48-8477-00303daa4148"
      },
      "outputs": [
        {
          "name": "stdout",
          "output_type": "stream",
          "text": [
            "CSV file 'responses.csv' has been created successfully.\n",
            "Probability of 'Yes' response: 0.62\n"
          ]
        }
      ],
      "source": [
        "import csv\n",
        "\n",
        "# Define the file path\n",
        "csv_file = \"responses.csv\"\n",
        "\n",
        "# Open the CSV that contains the responses recieved from users and calculate the probability of 'Yes'\n",
        "yes_count = 0\n",
        "total_count = 0\n",
        "\n",
        "with open(csv_file, mode='r') as file:\n",
        "    reader = csv.reader(file)\n",
        "    next(reader)\n",
        "    for row in reader:\n",
        "        recipient, response = row\n",
        "        total_count += 1\n",
        "        if response.lower() == \"yes\":\n",
        "            yes_count += 1\n",
        "\n",
        "# Step 3: Calculate the probability of 'Yes' response\n",
        "if total_count > 0:\n",
        "    probability_of_yes = yes_count / total_count\n",
        "    # print(f\"Probability of 'Yes' response: {probability_of_yes:.2f}\")\n",
        "else:\n",
        "    print(\"No data to calculate probability.\")\n"
      ]
    },
    {
      "cell_type": "code",
      "execution_count": null,
      "metadata": {
        "colab": {
          "base_uri": "https://localhost:8080/"
        },
        "id": "mRHMsF7SmU1k",
        "outputId": "bb6cef42-0010-4719-f9b0-8b12f896b4ba"
      },
      "outputs": [
        {
          "name": "stdout",
          "output_type": "stream",
          "text": [
            "based on the feedback recorded at ground-level, the the probability of the news being fake is 62.50%\n"
          ]
        }
      ],
      "source": [
        "print(f\"based on the feedback recorded at ground-level, the the probability of the news being fake is {probability_of_yes*100:.2f}%\")"
      ]
    }
  ],
  "metadata": {
    "colab": {
      "provenance": []
    },
    "kernelspec": {
      "display_name": "Python 3",
      "name": "python3"
    },
    "language_info": {
      "name": "python"
    }
  },
  "nbformat": 4,
  "nbformat_minor": 0
}
